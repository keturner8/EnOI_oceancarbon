{
 "cells": [
  {
   "cell_type": "code",
   "execution_count": 1,
   "id": "eeb319e1-3930-4628-9a77-60f2d97bf8f7",
   "metadata": {},
   "outputs": [],
   "source": [
    "import numpy as np\n",
    "import xarray as xr\n",
    "import matplotlib.pyplot as plt\n",
    "\n",
    "import sys\n",
    "sys.path.append('/Volumes/KT-TOSHIBA/ENOI/CODE')\n",
    "import enoi_functions as enoi\n",
    "\n",
    "mdata='/Volumes/KT-TOSHIBA/ENOI/sorted_model_data/'"
   ]
  },
  {
   "cell_type": "code",
   "execution_count": 2,
   "id": "8086ffa0-c4df-4ec4-b1d3-2f37554ba3ed",
   "metadata": {},
   "outputs": [],
   "source": [
    "from dask.distributed import Client\n",
    "client = Client('tcp://127.0.0.1:8786')"
   ]
  },
  {
   "cell_type": "code",
   "execution_count": 3,
   "id": "25152904-3d20-4048-b407-71ab4b2322e6",
   "metadata": {},
   "outputs": [],
   "source": [
    "ul=0\n",
    "ll=100"
   ]
  },
  {
   "cell_type": "code",
   "execution_count": 4,
   "id": "8f2b961e-989f-499c-b5f6-754d46a36750",
   "metadata": {},
   "outputs": [],
   "source": [
    "dissic_ll = np.load(f'{mdata}dic_{ll}.npy')\n",
    "thetao_ll = np.load(f'{mdata}thetao_{ll}.npy')\n",
    "so_ll = np.load(f'{mdata}so_{ll}.npy')\n",
    "\n",
    "drift_dissic_ll = np.load(f\"drift_ts_dissic{ll:04d}.npy\")\n",
    "drift_thetao_ll = np.load(f\"drift_ts_thetao{ll:04d}.npy\")\n",
    "drift_so_ll = np.load(f\"drift_ts_so{ll:04d}.npy\")\n",
    "\n",
    "if ul > 0:\n",
    "    dissic_ul = np.load(f'{mdata}dic_{ul}.npy')\n",
    "    thetao_ul = np.load(f'{mdata}thetao_{ul}.npy')\n",
    "    so_ul = np.load(f'{mdata}so_{ul}.npy')\n",
    "\n",
    "    drift_dissic_ul = np.load(f\"drift_ts_dissic{ul:04d}.npy\")\n",
    "    drift_thetao_ul = np.load(f\"drift_ts_thetao{ul:04d}.npy\")\n",
    "    drift_so_ul = np.load(f\"drift_ts_so{ul:04d}.npy\")\n",
    "\n",
    "    ens_dic =  xr.DataArray(data = dissic_ll - dissic_ul - (drift_dissic_ll - drift_dissic_ul))\n",
    "    ens_theta =  xr.DataArray(data = thetao_ll - thetao_ul - (drift_thetao_ll - drift_thetao_ul))\n",
    "    ens_sal = xr.DataArray(data = so_ll - so_ul - (drift_so_ll - drift_so_ul))\n",
    "elif ul == 0:\n",
    "    ens_dic =  xr.DataArray(data = dissic_ll  - drift_dissic_ll)\n",
    "    ens_theta =  xr.DataArray(data = thetao_ll - drift_thetao_ll)\n",
    "    ens_sal = xr.DataArray(data = so_ll - drift_so_ll)"
   ]
  },
  {
   "cell_type": "code",
   "execution_count": 8,
   "id": "96a62be8-815e-4666-ac5d-0e9864f52bda",
   "metadata": {},
   "outputs": [],
   "source": [
    "argo_coverage= xr.open_dataset('/Volumes/KT-TOSHIBA/ENOI/CODE/argo_mask.nc')\n",
    "argo_mask = argo_coverage.argo_annualcoverage\n",
    "\n",
    "years_used = -60\n",
    "limit_z = 100\n",
    "m0 = xr.open_dataset('/Volumes/KT-TOSHIBA/ENOI/CMIP6/forcings/mol1.nc', decode_times=False)\n",
    "pco2 = m0.mole_fraction_of_carbon_dioxide_in_air[years_used:,0]\n",
    "pco2_extended = np.tile(pco2.data - np.nanmean(pco2.data), \n",
    "                        int(np.shape(so_ll)[0]/np.abs(years_used)))\n",
    "\n",
    "lon = np.arange(0.5,360.5)\n",
    "lat = np.arange(-89.5,90.5)\n",
    "\n",
    "mdict = {'lat':'lat', 'lon':'lon', 'lev':'lev', 'lev_bnds':'lev_bnds'}\n",
    "\n",
    "##############################################################################\n",
    "# Creating masks to plot figures\n",
    "interp_mask, land_mask = enoi.create_mask(dissic_ll, f'{mdata}mask_{ll}.npy')\n",
    "newcmp = enoi.n_cmap()\n",
    "##############################################################################"
   ]
  },
  {
   "cell_type": "code",
   "execution_count": 9,
   "id": "51945798-c5c5-49c2-b49a-ec3121bc1377",
   "metadata": {},
   "outputs": [],
   "source": [
    "dic_resid = ens_dic - ens_dic.mean(axis=0)\n",
    "theta_resid = ens_theta - ens_theta.mean(axis=0)\n",
    "so_resid = ens_sal - ens_sal.mean(axis=0)"
   ]
  },
  {
   "cell_type": "code",
   "execution_count": 10,
   "id": "44b4d733-2ad0-44cd-b6e8-7efa12f2da84",
   "metadata": {},
   "outputs": [],
   "source": [
    "coeff_ensCO2 = np.zeros([180,360])\n",
    "coeff_ensT = np.zeros([180,360])\n",
    "coeff_ensS = np.zeros([180,360])\n",
    "for i in np.arange(0,180):\n",
    "        for j in np.arange(0,360):\n",
    "            if theta_resid[0,i,j] != 0 :\n",
    "                input_vars = np.stack((pco2_extended, theta_resid[:,i,j],ens_sal[:,i,j]), axis=-1)\n",
    "                dummy = np.linalg.lstsq(input_vars, dic_resid[:,i,j], rcond=-1)\n",
    "                \n",
    "                coeff_ensCO2[i,j] = dummy[0][0]\n",
    "                coeff_ensT[i,j] = dummy[0][1]\n",
    "                coeff_ensS[i,j] = dummy[0][2]"
   ]
  },
  {
   "cell_type": "code",
   "execution_count": 11,
   "id": "d641cb7a-ea91-464e-abfd-55f1bb297ef3",
   "metadata": {},
   "outputs": [
    {
     "name": "stdout",
     "output_type": "stream",
     "text": [
      "Saving in c_0_100.nc\n"
     ]
    }
   ],
   "source": [
    "ds1 = xr.Dataset(\n",
    "      data_vars=dict(\n",
    "          cCO2=([\"y\", \"x\"], coeff_ensCO2.astype('float64')),\n",
    "          cT=([\"y\", \"x\"], coeff_ensT.astype('float64')),\n",
    "          cS=([\"y\", \"x\"], coeff_ensS.astype('float64'))\n",
    "          ),\n",
    "\n",
    "      coords=dict(\n",
    "          lon=([\"x\"], lon),\n",
    "          lat=([\"y\"], lat),\n",
    "          ),\n",
    "\n",
    "      attrs=dict(description=f\"Co-located coefficients for ENOI, DIC {ul}m-{ll}m integrated\"),\n",
    "\n",
    "  )\n",
    "\n",
    "output_fn = f'c_{ul}_{ll}.nc'\n",
    "    \n",
    "print(f'Saving in {output_fn}')\n",
    "ds1.to_netcdf(output_fn)"
   ]
  },
  {
   "cell_type": "code",
   "execution_count": 12,
   "id": "bfcc1f9f-c144-4784-9c56-aa479b5f84c9",
   "metadata": {},
   "outputs": [
    {
     "name": "stdout",
     "output_type": "stream",
     "text": [
      "0\n",
      "1\n",
      "2\n",
      "3\n",
      "4\n",
      "5\n",
      "Saving in c_0_100_sens.nc\n"
     ]
    },
    {
     "name": "stderr",
     "output_type": "stream",
     "text": [
      "distributed.client - ERROR - Failed to reconnect to scheduler after 30.00 seconds, closing client\n"
     ]
    }
   ],
   "source": [
    "coeff_ensCO2_omit = np.zeros([6,180,360])\n",
    "coeff_ensT_omit = np.zeros([6,180,360])\n",
    "coeff_ensS_omit = np.zeros([6,180,360])\n",
    "for k in np.arange(6):\n",
    "    ri_i = np.arange(k*5*60,(k+1)*5*60)\n",
    "    full = np.arange(30*60)\n",
    "    test_index = np.delete(full,ri_i)\n",
    "    \n",
    "    for i in np.arange(0,180):\n",
    "        for j in np.arange(0,360):\n",
    "            if theta_resid[0,i,j] != 0 :\n",
    "                input_vars = np.stack((pco2_extended[test_index], theta_resid[test_index,i,j],so_resid[test_index,i,j]), axis=-1)\n",
    "                dummy = np.linalg.lstsq(input_vars, dic_resid[test_index,i,j], rcond=-1)\n",
    "                \n",
    "                coeff_ensCO2_omit[k,i,j] = dummy[0][0]\n",
    "                coeff_ensT_omit[k,i,j] = dummy[0][1]\n",
    "                coeff_ensS_omit[k,i,j] = dummy[0][2]\n",
    "    print(k)\n",
    "\n",
    "mod=[\"ACCESS\", \"CanESM\", \"CESM\", \"IPSL\", \"MPI\", \"UKESM\"]\n",
    "\n",
    "ds1 = xr.Dataset(\n",
    "     data_vars=dict(\n",
    "         cCO2=([\"mod\", \"y\", \"x\"], coeff_ensCO2_omit.astype('float64')),\n",
    "         cT=([\"mod\", \"y\", \"x\"], coeff_ensT_omit.astype('float64')),\n",
    "         cS=([\"mod\", \"y\", \"x\"], coeff_ensS_omit.astype('float64'))\n",
    "         ),\n",
    "\n",
    "     coords=dict(\n",
    "         model_omitted=([\"mod\"], mod),\n",
    "         lon=([\"x\"], lon),\n",
    "         lat=([\"y\"], lat),\n",
    "         ),\n",
    "\n",
    "     attrs=dict(description=f\"Co-located coefficients for ENOI, DIC {ul}m-{ll}m integrated - sensitivity experiments\"),\n",
    "\n",
    " )\n",
    "\n",
    "output_fn = f'c_{ul}_{ll}_sens.nc'\n",
    "    \n",
    "print(f'Saving in {output_fn}')\n",
    "ds1.to_netcdf(output_fn)"
   ]
  },
  {
   "cell_type": "code",
   "execution_count": null,
   "id": "a19227dc-be24-4712-87ea-92e18d9f45d1",
   "metadata": {},
   "outputs": [],
   "source": []
  }
 ],
 "metadata": {
  "kernelspec": {
   "display_name": "Python 3 (ipykernel)",
   "language": "python",
   "name": "python3"
  },
  "language_info": {
   "codemirror_mode": {
    "name": "ipython",
    "version": 3
   },
   "file_extension": ".py",
   "mimetype": "text/x-python",
   "name": "python",
   "nbconvert_exporter": "python",
   "pygments_lexer": "ipython3",
   "version": "3.9.12"
  }
 },
 "nbformat": 4,
 "nbformat_minor": 5
}
