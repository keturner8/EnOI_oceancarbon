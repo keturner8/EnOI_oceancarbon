{
 "cells": [
  {
   "cell_type": "code",
   "execution_count": 1,
   "id": "94677a25-e8af-4e58-add7-e7e2bde7620f",
   "metadata": {},
   "outputs": [],
   "source": [
    "import xarray as xr\n",
    "import numpy as np\n",
    "import matplotlib.pyplot as plt"
   ]
  },
  {
   "cell_type": "code",
   "execution_count": 6,
   "id": "f9405d15-7b8d-47d4-b5f8-e808f2c4f184",
   "metadata": {},
   "outputs": [],
   "source": [
    "input_dir = \"/Users/keturner/ENOI/calculate_drifts/drifts_integrated\"\n",
    "model = [\"ACCESS\", \"CanESM\", \"CESM\", \"IPSL\", \"MPI\", \"UKESM\"]\n",
    "model2 = \"NorESM\"\n",
    "var = [\"dissic\", \"so\", \"thetao\"]\n",
    "dz_list = [100, 500, 1000, 2000]"
   ]
  },
  {
   "cell_type": "code",
   "execution_count": 3,
   "id": "81c228f9-9537-459d-875f-f28419b8fa9f",
   "metadata": {},
   "outputs": [],
   "source": [
    "drift_scaling = np.arange(60)/100"
   ]
  },
  {
   "cell_type": "code",
   "execution_count": 10,
   "id": "46179b1c-03e9-44c6-84b7-f0663b53f65e",
   "metadata": {},
   "outputs": [],
   "source": [
    "v = var[0]"
   ]
  },
  {
   "cell_type": "code",
   "execution_count": null,
   "id": "7380020a-9088-489e-b3b3-45fcee0f3a3c",
   "metadata": {},
   "outputs": [],
   "source": [
    "# for the ensemble without NorESM\n",
    "for j in np.arange(len(dz_list)):\n",
    "    dz = dz_list[j]\n",
    "    out_ts = np.empty((60*5*6,180,360))\n",
    "    out_ts[:] = np.nan\n",
    "    \n",
    "    for i in np.arange(len(model)):\n",
    "        m = model[i]\n",
    "    \n",
    "        ds_in = xr.open_dataset(f\"{input_dir}/drift_{v}_{m}_{dz:04d}int.nc\")\n",
    "\n",
    "        drift_pattern = ds_in[f\"drift_{v}_{m}_{dz}int\"].data\n",
    "\n",
    "        tile = np.zeros((60,180,360))\n",
    "        for t in np.arange(60):\n",
    "            tile[t,:,:] = drift_scaling[t] * drift_pattern\n",
    "\n",
    "        tile5 = np.tile(tile, [5, 1, 1])\n",
    "\n",
    "        out_ts[i*300:(i+1)*300,:,:] = tile5\n",
    "    \n",
    "    np.save(f\"drift_ts_{v}{dz:04d}.npy\", out_ts)"
   ]
  },
  {
   "cell_type": "code",
   "execution_count": 11,
   "id": "31994440-196f-4a39-ba4e-0c94700e984e",
   "metadata": {},
   "outputs": [],
   "source": [
    "# for just NorESM\n",
    "for j in np.arange(len(dz_list)):\n",
    "    dz = dz_list[j]\n",
    "    out_ts = np.empty((60,180,360))\n",
    "    out_ts[:] = np.nan\n",
    "    \n",
    "    m = model2\n",
    "    \n",
    "    ds_in = xr.open_dataset(f\"{input_dir}/drift_{v}_{m}_{dz:04d}int.nc\")\n",
    "\n",
    "    drift_pattern = ds_in[f\"drift_{v}_{m}_{dz}int\"].data\n",
    "\n",
    "    tile = np.zeros((60,180,360))\n",
    "    for t in np.arange(60):\n",
    "        out_ts[t,:,:] = drift_scaling[t] * drift_pattern\n",
    "    \n",
    "    np.save(f\"drift_nor_{v}{dz:04d}.npy\", out_ts)"
   ]
  },
  {
   "cell_type": "code",
   "execution_count": null,
   "id": "682eb749-2893-4dee-a9fa-e677003dd047",
   "metadata": {},
   "outputs": [],
   "source": []
  }
 ],
 "metadata": {
  "kernelspec": {
   "display_name": "Python 3 (ipykernel)",
   "language": "python",
   "name": "python3"
  },
  "language_info": {
   "codemirror_mode": {
    "name": "ipython",
    "version": 3
   },
   "file_extension": ".py",
   "mimetype": "text/x-python",
   "name": "python",
   "nbconvert_exporter": "python",
   "pygments_lexer": "ipython3",
   "version": "3.9.12"
  }
 },
 "nbformat": 4,
 "nbformat_minor": 5
}
